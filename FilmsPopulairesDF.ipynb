{
  "cells": [
    {
      "cell_type": "markdown",
      "metadata": {
        "id": "view-in-github",
        "colab_type": "text"
      },
      "source": [
        "<a href=\"https://colab.research.google.com/github/akram01Br/PixelHawk-OD/blob/main/FilmsPopulairesDF.ipynb\" target=\"_parent\"><img src=\"https://colab.research.google.com/assets/colab-badge.svg\" alt=\"Open In Colab\"/></a>"
      ]
    },
    {
      "cell_type": "code",
      "execution_count": null,
      "id": "178a2e51",
      "metadata": {
        "id": "178a2e51"
      },
      "outputs": [],
      "source": [
        "import findspark\n",
        "findspark.init()"
      ]
    },
    {
      "cell_type": "code",
      "execution_count": null,
      "id": "678aa79a",
      "metadata": {
        "id": "678aa79a"
      },
      "outputs": [],
      "source": [
        "from pyspark.sql import SparkSession,Row"
      ]
    },
    {
      "cell_type": "code",
      "execution_count": null,
      "id": "fec9334e",
      "metadata": {
        "id": "fec9334e",
        "outputId": "27abcd69-d1aa-44aa-e1d1-e375543a8898"
      },
      "outputs": [
        {
          "name": "stderr",
          "output_type": "stream",
          "text": [
            "21/12/08 13:54:42 WARN Utils: Your hostname, cj-X550JX resolves to a loopback address: 127.0.1.1; using 172.16.50.1 instead (on interface wlp3s0)\n",
            "21/12/08 13:54:42 WARN Utils: Set SPARK_LOCAL_IP if you need to bind to another address\n",
            "WARNING: An illegal reflective access operation has occurred\n",
            "WARNING: Illegal reflective access by org.apache.spark.unsafe.Platform (file:/opt/spark/jars/spark-unsafe_2.12-3.0.3.jar) to constructor java.nio.DirectByteBuffer(long,int)\n",
            "WARNING: Please consider reporting this to the maintainers of org.apache.spark.unsafe.Platform\n",
            "WARNING: Use --illegal-access=warn to enable warnings of further illegal reflective access operations\n",
            "WARNING: All illegal access operations will be denied in a future release\n",
            "21/12/08 13:54:42 WARN NativeCodeLoader: Unable to load native-hadoop library for your platform... using builtin-java classes where applicable\n",
            "Using Spark's default log4j profile: org/apache/spark/log4j-defaults.properties\n",
            "Setting default log level to \"WARN\".\n",
            "To adjust logging level use sc.setLogLevel(newLevel). For SparkR, use setLogLevel(newLevel).\n"
          ]
        }
      ],
      "source": [
        "spark =SparkSession.builder.config(\"spark.sql.warehouse.dir\",\"file:///home/cj/sparkWorkSpace/temp\").appName(\"FilmsPopulairesDF\").getOrCreate()"
      ]
    },
    {
      "cell_type": "code",
      "execution_count": null,
      "id": "9a0580c6",
      "metadata": {
        "id": "9a0580c6"
      },
      "outputs": [],
      "source": [
        "lines=spark.sparkContext.textFile(\"file:///home/cj/sparkWorkSpace/DataBase/u.data\")"
      ]
    },
    {
      "cell_type": "code",
      "execution_count": null,
      "id": "4712a60d",
      "metadata": {
        "id": "4712a60d"
      },
      "outputs": [],
      "source": [
        "def convertRow(line,movies):\n",
        "    fields=line.split(',')\n",
        "    return Row(ID=int(fields[0]))"
      ]
    },
    {
      "cell_type": "code",
      "execution_count": null,
      "id": "63d35749",
      "metadata": {
        "id": "63d35749"
      },
      "outputs": [],
      "source": [
        "def loadNamesFilms():\n",
        "    moviesNames={}\n",
        "    with open(\"DataBase/u.item\",encoding = \"ISO-8859-1\") as f:\n",
        "        for line in f:\n",
        "            fields=line.split(\"|\")\n",
        "            moviesNames[int(fields[0])]=fields[1]\n",
        "        return moviesNames"
      ]
    },
    {
      "cell_type": "code",
      "execution_count": null,
      "id": "0c1f857d",
      "metadata": {
        "id": "0c1f857d"
      },
      "outputs": [],
      "source": [
        "nameDict=loadNamesFilms()"
      ]
    },
    {
      "cell_type": "code",
      "execution_count": null,
      "id": "f6d6941b",
      "metadata": {
        "id": "f6d6941b"
      },
      "outputs": [],
      "source": [
        "lines=lines.map(lambda x:Row(movieID=int(x.split()[1])))\n",
        ""
      ]
    },
    {
      "cell_type": "code",
      "execution_count": null,
      "id": "2cd611dd",
      "metadata": {
        "id": "2cd611dd",
        "outputId": "fe776211-9164-4009-9af7-296a0d00ba66"
      },
      "outputs": [
        {
          "name": "stderr",
          "output_type": "stream",
          "text": [
            "\r",
            "                                                                                \r"
          ]
        }
      ],
      "source": [
        "#creating the dataFrame\n",
        "MovieDataFrame=spark.createDataFrame(lines).cache()\n",
        "MovieDataFrame.createOrReplaceTempView(\"film\")\n"
      ]
    },
    {
      "cell_type": "code",
      "execution_count": null,
      "id": "ccce8280",
      "metadata": {
        "id": "ccce8280"
      },
      "outputs": [],
      "source": [
        "topMovies=MovieDataFrame.groupby(\"movieID\").count().orderBy(\"count\",ascending=False)"
      ]
    },
    {
      "cell_type": "code",
      "execution_count": null,
      "id": "0f36cf89",
      "metadata": {
        "id": "0f36cf89",
        "outputId": "a169efe8-2db3-4989-99e2-bdc82bc4fb75"
      },
      "outputs": [
        {
          "name": "stdout",
          "output_type": "stream",
          "text": [
            "+-------+-----+\n",
            "|movieID|count|\n",
            "+-------+-----+\n",
            "|     50|  583|\n",
            "|    258|  509|\n",
            "|    100|  508|\n",
            "|    181|  507|\n",
            "|    294|  485|\n",
            "|    286|  481|\n",
            "|    288|  478|\n",
            "|      1|  452|\n",
            "|    300|  431|\n",
            "|    121|  429|\n",
            "|    174|  420|\n",
            "|    127|  413|\n",
            "|     56|  394|\n",
            "|      7|  392|\n",
            "|     98|  390|\n",
            "|    237|  384|\n",
            "|    117|  378|\n",
            "|    172|  367|\n",
            "|    222|  365|\n",
            "|    313|  350|\n",
            "+-------+-----+\n",
            "only showing top 20 rows\n",
            "\n"
          ]
        }
      ],
      "source": [
        "topMovies.show()"
      ]
    },
    {
      "cell_type": "code",
      "execution_count": null,
      "id": "8b565c70",
      "metadata": {
        "id": "8b565c70",
        "outputId": "0fb8216e-4a32-4210-9ee2-a2478e7421ea"
      },
      "outputs": [
        {
          "name": "stdout",
          "output_type": "stream",
          "text": [
            "Star Wars (1977) : 583\n",
            "Contact (1997) : 509\n",
            "Fargo (1996) : 508\n",
            "Return of the Jedi (1983) : 507\n",
            "Liar Liar (1997) : 485\n",
            "English Patient, The (1996) : 481\n",
            "Scream (1996) : 478\n",
            "Toy Story (1995) : 452\n",
            "Air Force One (1997) : 431\n",
            "Independence Day (ID4) (1996) : 429\n"
          ]
        }
      ],
      "source": [
        "top10films=topMovies.take(10)\n",
        "for film in top10films:\n",
        "    print(\"%s : %d\"% (nameDict[film[0]],film[1]))"
      ]
    },
    {
      "cell_type": "code",
      "execution_count": null,
      "id": "f0f84aad",
      "metadata": {
        "id": "f0f84aad"
      },
      "outputs": [],
      "source": []
    }
  ],
  "metadata": {
    "kernelspec": {
      "display_name": "Python 3 (ipykernel)",
      "language": "python",
      "name": "python3"
    },
    "language_info": {
      "codemirror_mode": {
        "name": "ipython",
        "version": 3
      },
      "file_extension": ".py",
      "mimetype": "text/x-python",
      "name": "python",
      "nbconvert_exporter": "python",
      "pygments_lexer": "ipython3",
      "version": "3.9.0"
    },
    "colab": {
      "provenance": [],
      "include_colab_link": true
    }
  },
  "nbformat": 4,
  "nbformat_minor": 5
}